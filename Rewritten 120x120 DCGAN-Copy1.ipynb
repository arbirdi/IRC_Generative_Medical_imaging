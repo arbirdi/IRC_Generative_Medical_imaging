{
 "cells": [
  {
   "cell_type": "markdown",
   "id": "de959318",
   "metadata": {},
   "source": [
    "References:\n",
    "\n",
    "see: https://www.tensorflow.org/tutorials/generative/dcgan"
   ]
  },
  {
   "cell_type": "markdown",
   "id": "fc34f2a8",
   "metadata": {},
   "source": [
    "## Module Imports"
   ]
  },
  {
   "cell_type": "code",
   "execution_count": null,
   "id": "a8c79052",
   "metadata": {},
   "outputs": [],
   "source": [
    "!pip install imageio\n",
    "!pip install git+https://github.com/tensorflow/docs\n",
    "!pip install PIL"
   ]
  },
  {
   "cell_type": "code",
   "execution_count": 8,
   "id": "c89a672b",
   "metadata": {},
   "outputs": [],
   "source": [
    "import glob\n",
    "import imageio\n",
    "import matplotlib.pyplot as plt\n",
    "import numpy as np\n",
    "import os\n",
    "import PIL\n",
    "import tensorflow as tf\n",
    "from tensorflow.keras import layers\n",
    "import time\n",
    "from IPython import display"
   ]
  },
  {
   "cell_type": "markdown",
   "id": "a6ca160b",
   "metadata": {},
   "source": [
    "## Tensorflow Setup"
   ]
  },
  {
   "cell_type": "code",
   "execution_count": null,
   "id": "a4a6e699",
   "metadata": {},
   "outputs": [],
   "source": [
    "import tensorflow as tf"
   ]
  },
  {
   "cell_type": "code",
   "execution_count": null,
   "id": "eb8188b6",
   "metadata": {},
   "outputs": [],
   "source": [
    "tf.__version__"
   ]
  },
  {
   "cell_type": "code",
   "execution_count": null,
   "id": "8cf70aca",
   "metadata": {},
   "outputs": [],
   "source": [
    "physical_devices = tf.config.list_physical_devices(\"GPU\")\n",
    "tf.config.experimental.set_memory_growth(physical_devices[0], True)"
   ]
  },
  {
   "cell_type": "markdown",
   "id": "d5e66f14",
   "metadata": {},
   "source": [
    "## Data Cleaning"
   ]
  },
  {
   "cell_type": "code",
   "execution_count": 5,
   "id": "77a24314",
   "metadata": {},
   "outputs": [],
   "source": [
    "#import data\n",
    "train_images = np.load('2d_data.npy')\n",
    "train_labels = np.load('2d_label.npy')"
   ]
  },
  {
   "cell_type": "code",
   "execution_count": null,
   "id": "24c5aa3d",
   "metadata": {},
   "outputs": [],
   "source": [
    "#load data"
   ]
  },
  {
   "cell_type": "code",
   "execution_count": null,
   "id": "1fedd4dc",
   "metadata": {},
   "outputs": [],
   "source": [
    "#clean data\n",
    "print(train_images.shape)\n",
    "plt.imshow(train_images[0])"
   ]
  },
  {
   "cell_type": "code",
   "execution_count": null,
   "id": "e57e91d2",
   "metadata": {},
   "outputs": [],
   "source": [
    "from sklearn import preprocessing"
   ]
  },
  {
   "cell_type": "code",
   "execution_count": null,
   "id": "0af7cf6f",
   "metadata": {},
   "outputs": [],
   "source": [
    "plt.imshow(train_images[0].reshape(240,240))\n",
    "plt.show()\n",
    "plt.boxplot(train_images[0].flatten())"
   ]
  },
  {
   "cell_type": "code",
   "execution_count": null,
   "id": "5a5cc0e2",
   "metadata": {},
   "outputs": [],
   "source": [
    "\"\"\"train_images = train_images.reshape(train_images.shape[0], 28, 28, 1).astype('float32')\n",
    "train_images = (train_images - 127.5) / 127.5  # Normalize the images to [-1, 1]\"\"\"\n",
    "\n",
    "training_image = np.zeros(shape=(240,240))\n",
    "resized_training_images = np.zeros(shape=(train_images.shape[0], 120,120, 1))#train_images.shape[1]/2, train_images.shape[2]/2, 1))\n",
    "train_images[0]\n",
    "for i in range(train_images.shape[0]):\n",
    "    train_images[i] = train_images[i]/max(train_images[i].flatten()) #normalise images to [0,1] - possibly in the future change this to [-1, 1]\n",
    "    #scaler = preprocessing.StandardScaler().fit(train_images[i].flatten().reshape(-1,1))\n",
    "    #training_image = scaler.transform(train_images[i].flatten().reshape(-1,1)).reshape(240,240)\n",
    "    #training_image = training_image.reshape(240,240,1)\n",
    "    #training_image[training_image > 3] = 3\n",
    "    #train_images[i] = scaler.transform(train_images[i].flatten).reshape(120,120,1)\n",
    "    resized_training_images[i] = train_images[i,::2,::2,:]#training_image[::2,::2,:]"
   ]
  },
  {
   "cell_type": "code",
   "execution_count": null,
   "id": "7c6151b6",
   "metadata": {},
   "outputs": [],
   "source": [
    "plt.imshow(train_images[0])"
   ]
  },
  {
   "cell_type": "code",
   "execution_count": null,
   "id": "dbc5817f",
   "metadata": {},
   "outputs": [],
   "source": [
    "plt.imshow(resized_training_images[0])"
   ]
  },
  {
   "cell_type": "code",
   "execution_count": null,
   "id": "4130dee5",
   "metadata": {},
   "outputs": [],
   "source": [
    "plt.boxplot(train_images[0].flatten())"
   ]
  },
  {
   "cell_type": "code",
   "execution_count": null,
   "id": "c9e96ab4",
   "metadata": {},
   "outputs": [],
   "source": [
    "plt.boxplot(resized_training_images[0].flatten())"
   ]
  },
  {
   "cell_type": "code",
   "execution_count": null,
   "id": "0952ab97",
   "metadata": {},
   "outputs": [],
   "source": [
    "#batch and shuffle data"
   ]
  },
  {
   "cell_type": "code",
   "execution_count": null,
   "id": "39e08ae3",
   "metadata": {},
   "outputs": [],
   "source": [
    "BUFFER_SIZE = 4455\n",
    "BATCH_SIZE = 200\n",
    "train_dataset = tf.data.Dataset.from_tensor_slices(resized_training_images).shuffle(BUFFER_SIZE).batch(BATCH_SIZE)"
   ]
  },
  {
   "cell_type": "code",
   "execution_count": null,
   "id": "be058c35",
   "metadata": {},
   "outputs": [],
   "source": [
    "print(train_dataset)"
   ]
  },
  {
   "cell_type": "markdown",
   "id": "a43f55ee",
   "metadata": {},
   "source": [
    "## The Generator"
   ]
  },
  {
   "cell_type": "code",
   "execution_count": 6,
   "id": "e1eda678",
   "metadata": {},
   "outputs": [
    {
     "ename": "NameError",
     "evalue": "name 's' is not defined",
     "output_type": "error",
     "traceback": [
      "\u001b[1;31m---------------------------------------------------------------------------\u001b[0m",
      "\u001b[1;31mNameError\u001b[0m                                 Traceback (most recent call last)",
      "Input \u001b[1;32mIn [6]\u001b[0m, in \u001b[0;36m<cell line: 1>\u001b[1;34m()\u001b[0m\n\u001b[1;32m----> 1\u001b[0m \u001b[43ms\u001b[49m\n",
      "\u001b[1;31mNameError\u001b[0m: name 's' is not defined"
     ]
    }
   ],
   "source": [
    "latent_dim = 128\n",
    "def make_generator_model():\n",
    "    model = tf.keras.Sequential(\n",
    "        [\n",
    "            layers.Input(shape=(latent_dim,)),\n",
    "            layers.Dense(15*15*64),\n",
    "            layers.Reshape((15,15,64)),\n",
    "            layers.Conv2DTranspose(64, kernel_size=4, strides=2, padding=\"same\"),\n",
    "            layers.LeakyReLU(0.2),\n",
    "            layers.Conv2DTranspose(128, kernel_size=4, strides=2, padding=\"same\"),\n",
    "            layers.LeakyReLU(0.2),\n",
    "            layers.Conv2DTranspose(256, kernel_size=4, strides=2, padding=\"same\"),\n",
    "            layers.LeakyReLU(0.2),\n",
    "            layers.Conv2DTranspose(1, kernel_size=5, padding=\"same\", activation='sigmoid'),\n",
    "        ]\n",
    "    )\n",
    "    return model\n",
    "\n",
    "make_generator_model().summary()"
   ]
  },
  {
   "cell_type": "code",
   "execution_count": null,
   "id": "51ff4596",
   "metadata": {},
   "outputs": [],
   "source": [
    "noise = tf.random.normal([1, 128])\n",
    "print(noise)"
   ]
  },
  {
   "cell_type": "code",
   "execution_count": null,
   "id": "c14c11e0",
   "metadata": {},
   "outputs": [],
   "source": [
    "#Creating an image using the untrained generator\n",
    "generator = make_generator_model()\n",
    "\n",
    "noise = tf.random.normal([1, 128])\n",
    "generated_image = generator(noise, training=False)\n",
    "print(noise)\n",
    "\n",
    "plt.imshow(generated_image[0, :, :, 0])"
   ]
  },
  {
   "cell_type": "markdown",
   "id": "c78f51cb",
   "metadata": {},
   "source": [
    "## The Discriminator"
   ]
  },
  {
   "cell_type": "code",
   "execution_count": null,
   "id": "410dc11e",
   "metadata": {},
   "outputs": [],
   "source": [
    "\"\"\"def make_discriminator_model():\n",
    "    model = tf.keras.Sequential()\n",
    "    model.add(layers.Conv2D(64, (5, 5), strides=(2, 2), padding='same',\n",
    "                                     input_shape=[28, 28, 1]))\n",
    "    model.add(layers.LeakyReLU())\n",
    "    model.add(layers.Dropout(0.3))\n",
    "\n",
    "    model.add(layers.Conv2D(128, (5, 5), strides=(2, 2), padding='same'))\n",
    "    model.add(layers.LeakyReLU())\n",
    "    model.add(layers.Dropout(0.3))\n",
    "\n",
    "    model.add(layers.Flatten())\n",
    "    model.add(layers.Dense(1))\n",
    "\n",
    "    return model\"\"\"\n",
    "\n",
    "def make_discriminator_model():\n",
    "    model = tf.keras.Sequential(\n",
    "        [\n",
    "            tf.keras.Input(shape=(120,120,1)),\n",
    "            layers.Conv2D(60, kernel_size=4, strides=2, padding='same'),\n",
    "            layers.LeakyReLU(0.2),\n",
    "            layers.Conv2D(120, kernel_size=4, strides=2, padding='same'),\n",
    "            layers.LeakyReLU(0.2),\n",
    "            layers.Conv2D(120, kernel_size=4, strides=2, padding='same'),\n",
    "            layers.LeakyReLU(0.2),\n",
    "            layers.Flatten(),\n",
    "            layers.Dropout(0.2),\n",
    "            layers.Dense(1, activation='sigmoid'),\n",
    "        ]\n",
    "    )\n",
    "    return model\n",
    "\n",
    "make_discriminator_model().summary()"
   ]
  },
  {
   "cell_type": "code",
   "execution_count": null,
   "id": "97a2527d",
   "metadata": {},
   "outputs": [],
   "source": [
    "#Using the untrained discriminator to classify the untrained generated image\n",
    "discriminator = make_discriminator_model()\n",
    "decision = discriminator(generated_image)\n",
    "print (decision)"
   ]
  },
  {
   "cell_type": "markdown",
   "id": "d49479eb",
   "metadata": {},
   "source": [
    "## Losses and Optimisers - Generator and Discriminator\n"
   ]
  },
  {
   "cell_type": "code",
   "execution_count": null,
   "id": "ee47eed5",
   "metadata": {},
   "outputs": [],
   "source": [
    "# This method returns a helper function to compute cross entropy loss\n",
    "cross_entropy = tf.keras.losses.BinaryCrossentropy(from_logits=True)"
   ]
  },
  {
   "cell_type": "code",
   "execution_count": null,
   "id": "eb8109d1",
   "metadata": {},
   "outputs": [],
   "source": [
    "def discriminator_loss(real_output, fake_output):\n",
    "    real_loss = cross_entropy(tf.ones_like(real_output), real_output)\n",
    "    fake_loss = cross_entropy(tf.zeros_like(fake_output), fake_output)\n",
    "    total_loss = real_loss + fake_loss\n",
    "    return total_loss"
   ]
  },
  {
   "cell_type": "code",
   "execution_count": null,
   "id": "10601510",
   "metadata": {},
   "outputs": [],
   "source": [
    "def generator_loss(fake_output):\n",
    "    return cross_entropy(tf.ones_like(fake_output), fake_output)"
   ]
  },
  {
   "cell_type": "code",
   "execution_count": null,
   "id": "6bd9c0a5",
   "metadata": {},
   "outputs": [],
   "source": [
    "generator_optimizer = tf.keras.optimizers.Adam(1e-4)\n",
    "discriminator_optimizer = tf.keras.optimizers.Adam(1e-4)"
   ]
  },
  {
   "cell_type": "markdown",
   "id": "c04d715c",
   "metadata": {},
   "source": []
  },
  {
   "cell_type": "code",
   "execution_count": 7,
   "id": "0bdd896b",
   "metadata": {},
   "outputs": [
    {
     "ename": "NameError",
     "evalue": "name 's' is not defined",
     "output_type": "error",
     "traceback": [
      "\u001b[1;31m---------------------------------------------------------------------------\u001b[0m",
      "\u001b[1;31mNameError\u001b[0m                                 Traceback (most recent call last)",
      "Input \u001b[1;32mIn [7]\u001b[0m, in \u001b[0;36m<cell line: 1>\u001b[1;34m()\u001b[0m\n\u001b[1;32m----> 1\u001b[0m \u001b[43ms\u001b[49m\n",
      "\u001b[1;31mNameError\u001b[0m: name 's' is not defined"
     ]
    }
   ],
   "source": []
  },
  {
   "cell_type": "markdown",
   "id": "d42e1575",
   "metadata": {},
   "source": [
    "## Checkpoints"
   ]
  },
  {
   "cell_type": "code",
   "execution_count": null,
   "id": "499a8e36",
   "metadata": {},
   "outputs": [],
   "source": [
    "checkpoint_dir = './training_checkpoints'\n",
    "checkpoint_prefix = os.path.join(checkpoint_dir, \"ckpt\")\n",
    "checkpoint = tf.train.Checkpoint(generator_optimizer=generator_optimizer,\n",
    "                                 discriminator_optimizer=discriminator_optimizer,\n",
    "                                 generator=generator,\n",
    "                                 discriminator=discriminator)"
   ]
  },
  {
   "cell_type": "markdown",
   "id": "0f9af8da",
   "metadata": {},
   "source": [
    "## Training Loop"
   ]
  },
  {
   "cell_type": "code",
   "execution_count": null,
   "id": "69349839",
   "metadata": {},
   "outputs": [],
   "source": [
    "EPOCHS = 50\n",
    "noise_dim = 128\n",
    "num_examples_to_generate = 16\n",
    "\n",
    "# You will reuse this seed overtime (so it's easier)\n",
    "# to visualize progress in the animated GIF)\n",
    "seed = tf.random.normal([num_examples_to_generate, noise_dim])"
   ]
  },
  {
   "cell_type": "code",
   "execution_count": null,
   "id": "958e0d47",
   "metadata": {},
   "outputs": [],
   "source": [
    "# Notice the use of `tf.function`\n",
    "# This annotation causes the function to be \"compiled\".\n",
    "@tf.function\n",
    "def train_step(images):\n",
    "    noise = tf.random.normal([BATCH_SIZE, noise_dim])\n",
    "\n",
    "    with tf.GradientTape() as gen_tape, tf.GradientTape() as disc_tape:\n",
    "      generated_images = generator(noise, training=True)\n",
    "\n",
    "      real_output = discriminator(images, training=True)\n",
    "      fake_output = discriminator(generated_images, training=True)\n",
    "\n",
    "      gen_loss = generator_loss(fake_output)\n",
    "      disc_loss = discriminator_loss(real_output, fake_output)\n",
    "\n",
    "    gradients_of_generator = gen_tape.gradient(gen_loss, generator.trainable_variables)\n",
    "    gradients_of_discriminator = disc_tape.gradient(disc_loss, discriminator.trainable_variables)\n",
    "\n",
    "    generator_optimizer.apply_gradients(zip(gradients_of_generator, generator.trainable_variables))\n",
    "    discriminator_optimizer.apply_gradients(zip(gradients_of_discriminator, discriminator.trainable_variables))"
   ]
  },
  {
   "cell_type": "code",
   "execution_count": null,
   "id": "b2a942cc",
   "metadata": {},
   "outputs": [],
   "source": [
    "def train(dataset, epochs):\n",
    "  for epoch in range(epochs):\n",
    "    start = time.time()\n",
    "    print(time.strftime(\"%H:%M:%S\", time.localtime()))\n",
    "\n",
    "    for image_batch in dataset:\n",
    "      train_step(image_batch)\n",
    "\n",
    "    # Produce images for the GIF as you go\n",
    "    display.clear_output(wait=True)\n",
    "    generate_and_save_images(generator,\n",
    "                             epoch + 1,\n",
    "                             seed)\n",
    "\n",
    "    # Save the model every 15 epochs\n",
    "    if (epoch + 1) % 15 == 0:\n",
    "      checkpoint.save(file_prefix = checkpoint_prefix)\n",
    "\n",
    "    print ('Time for epoch {} is {} sec at {}'.format(epoch + 1, time.time()-start, time.strftime(\"%H:%M:%S\", time.localtime())))\n",
    "\n",
    "  # Generate after the final epoch\n",
    "  display.clear_output(wait=True)\n",
    "  generate_and_save_images(generator,\n",
    "                           epochs,\n",
    "                           seed)"
   ]
  },
  {
   "cell_type": "code",
   "execution_count": null,
   "id": "e0ec6c38",
   "metadata": {},
   "outputs": [],
   "source": [
    "def train(dataset, epochs):\n",
    "  for epoch in range(epochs):\n",
    "    start = time.time()\n",
    "    print(time.strftime(\"%H:%M:%S\", time.localtime()))\n",
    "\n",
    "    for image_batch in dataset:\n",
    "      train_step(image_batch)\n",
    "\n",
    "    # Produce images for the GIF as you go\n",
    "    display.clear_output(wait=True)\n",
    "    generate_and_save_images(generator,\n",
    "                             epoch + 1,\n",
    "                             seed)\n",
    "\n",
    "    # Save the model every 15 epochs\n",
    "    if (epoch + 1) % 15 == 0:\n",
    "      checkpoint.save(file_prefix = checkpoint_prefix)\n",
    "\n",
    "    print ('Time for epoch {} is {} sec at {}'.format(epoch + 1, time.time()-start, time.strftime(\"%H:%M:%S\", time.localtime())))\n",
    "\n",
    "  # Generate after the final epoch\n",
    "  display.clear_output(wait=True)\n",
    "  generate_and_save_images(generator,\n",
    "                           epochs,\n",
    "                           seed)"
   ]
  },
  {
   "cell_type": "code",
   "execution_count": null,
   "id": "c631855c",
   "metadata": {},
   "outputs": [],
   "source": [
    "#Restores last checkpoint\n",
    "checkpoint.restore(tf.train.latest_checkpoint(checkpoint_dir))"
   ]
  },
  {
   "cell_type": "markdown",
   "id": "876e5fbb",
   "metadata": {},
   "source": [
    "## Training the Model"
   ]
  },
  {
   "cell_type": "code",
   "execution_count": null,
   "id": "bcdcd6b4",
   "metadata": {},
   "outputs": [],
   "source": [
    "train(train_dataset, EPOCHS)"
   ]
  },
  {
   "cell_type": "markdown",
   "id": "95a06b73",
   "metadata": {},
   "source": [
    "## Displaying Images"
   ]
  },
  {
   "cell_type": "code",
   "execution_count": null,
   "id": "741a1f59",
   "metadata": {},
   "outputs": [],
   "source": [
    "# Display a single image using the epoch number\n",
    "def display_image(epoch_no):\n",
    "  return PIL.Image.open('image_at_epoch_{:04d}.png'.format(epoch_no))"
   ]
  },
  {
   "cell_type": "code",
   "execution_count": null,
   "id": "a190e87f",
   "metadata": {},
   "outputs": [],
   "source": [
    "display_image(EPOCHS)"
   ]
  },
  {
   "cell_type": "code",
   "execution_count": null,
   "id": "401de54c",
   "metadata": {},
   "outputs": [],
   "source": [
    "anim_file = 'dcgan.gif'\n",
    "\n",
    "with imageio.get_writer(anim_file, mode='I') as writer:\n",
    "  filenames = glob.glob('image*.png')\n",
    "  filenames = sorted(filenames)\n",
    "  for filename in filenames:\n",
    "    image = imageio.imread(filename)\n",
    "    writer.append_data(image)\n",
    "  image = imageio.imread(filename)\n",
    "  writer.append_data(image)"
   ]
  },
  {
   "cell_type": "code",
   "execution_count": null,
   "id": "43012312",
   "metadata": {},
   "outputs": [],
   "source": [
    "predict_image = generator.predict(tf.random.normal([100, 128]))\n",
    "generator.save(f'generator_save_50_epoch_{time.strftime(\"%H:%M:%S\", time.localtime())}')"
   ]
  },
  {
   "cell_type": "code",
   "execution_count": null,
   "id": "be7da65d",
   "metadata": {},
   "outputs": [],
   "source": [
    "fig, ax = plt.subplots(ncols=10, nrows=10, figsize=(120,120))\n",
    "for r in range(10):\n",
    "    for c in range(10):\n",
    "        ax[r][c].imshow(predict_image[(r+1)*(c+1)-1])"
   ]
  }
 ],
 "metadata": {
  "kernelspec": {
   "display_name": "Python 3 (ipykernel)",
   "language": "python",
   "name": "python3"
  },
  "language_info": {
   "codemirror_mode": {
    "name": "ipython",
    "version": 3
   },
   "file_extension": ".py",
   "mimetype": "text/x-python",
   "name": "python",
   "nbconvert_exporter": "python",
   "pygments_lexer": "ipython3",
   "version": "3.9.13"
  }
 },
 "nbformat": 4,
 "nbformat_minor": 5
}
